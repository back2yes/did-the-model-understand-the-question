{
  "nbformat": 4,
  "nbformat_minor": 0,
  "metadata": {
    "colab": {
      "name": "Copy of playground.ipynb",
      "version": "0.3.2",
      "provenance": [],
      "include_colab_link": true
    },
    "kernelspec": {
      "display_name": "Python 3",
      "language": "python",
      "name": "python3"
    }
  },
  "cells": [
    {
      "cell_type": "markdown",
      "metadata": {
        "id": "view-in-github",
        "colab_type": "text"
      },
      "source": [
        "[View in Colaboratory](https://colab.research.google.com/github/kyozen/Basic-Linear-Model-with-TensorFlow/blob/master/Copy_of_playground.ipynb)"
      ]
    },
    {
      "metadata": {
        "id": "A91t7Vmvrkdu",
        "colab_type": "text"
      },
      "cell_type": "markdown",
      "source": [
        "## VQA : Use and Abuse\n",
        "\n",
        "#### To answer a question\n",
        "\n",
        "*  Convert the image to features 'v'\n",
        "*  Convert the question to a torch vector of longs\n",
        "*  Pass both into the the VQA model\n",
        "*  Interpret the softmax-y answer vectors"
      ]
    },
    {
      "metadata": {
        "id": "LgUJldPsrkdw",
        "colab_type": "code",
        "colab": {}
      },
      "cell_type": "code",
      "source": [
        "import os, sys\n",
        "\n",
        "from matplotlib import pyplot as plt\n",
        "\n",
        "import warnings\n",
        "warnings.filterwarnings(\"ignore\", category=UserWarning) # Cleaner demos : Don't do this normally..."
      ],
      "execution_count": 0,
      "outputs": []
    },
    {
      "metadata": {
        "id": "zm2O2lr5rkdz",
        "colab_type": "text"
      },
      "cell_type": "markdown",
      "source": [
        "### Download the Prebuilt VQA model and Weights"
      ]
    },
    {
      "metadata": {
        "id": "6a_byV-trkd0",
        "colab_type": "code",
        "colab": {
          "base_uri": "https://localhost:8080/",
          "height": 85
        },
        "outputId": "a2ddf8ba-599b-4958-a25c-28d039615a84"
      },
      "cell_type": "code",
      "source": [
        "if not os.path.isfile('./pytorch-vqa/README.md'):\n",
        "    !git clone https://github.com/Cyanogenoid/pytorch-vqa.git\n",
        "sys.path.append(os.path.realpath('./pytorch-vqa'))"
      ],
      "execution_count": 0,
      "outputs": [
        {
          "output_type": "stream",
          "text": [
            "Cloning into 'pytorch-vqa'...\n",
            "remote: Counting objects: 33, done.\u001b[K\n",
            "remote: Total 33 (delta 0), reused 0 (delta 0), pack-reused 33\u001b[K\n",
            "Unpacking objects: 100% (33/33), done.\n"
          ],
          "name": "stdout"
        }
      ]
    },
    {
      "metadata": {
        "id": "McMI6JlQrkd2",
        "colab_type": "code",
        "colab": {}
      },
      "cell_type": "code",
      "source": [
        "# https://github.com/Cyanogenoid/pytorch-vqa/releases\n",
        "\n",
        "if not os.path.isfile('./2017-08-04_00.55.19.pth'):   # 81Mb model\n",
        "    !wget https://github.com/Cyanogenoid/pytorch-vqa/releases/download/v1.0/2017-08-04_00.55.19.pth"
      ],
      "execution_count": 0,
      "outputs": []
    },
    {
      "metadata": {
        "id": "sbtnXBPKrkd5",
        "colab_type": "code",
        "colab": {}
      },
      "cell_type": "code",
      "source": [
        "try: \n",
        "    import torch\n",
        "except:\n",
        "    from wheel.pep425tags import get_abbr_impl, get_impl_ver, get_abi_tag\n",
        "    platform = '{}{}-{}'.format(get_abbr_impl(), get_impl_ver(), get_abi_tag())\n",
        "    accelerator = 'cu80' if os.path.exists('/opt/bin/nvidia-smi') else 'cpu'\n",
        "    !pip install -q http://download.pytorch.org/whl/{accelerator}/torch-0.4.1-{platform}-linux_x86_64.whl torchvision\n",
        "        \n",
        "! pip install -U Pillow"
      ],
      "execution_count": 0,
      "outputs": []
    },
    {
      "metadata": {
        "id": "8y-RWp6lrkd7",
        "colab_type": "code",
        "colab": {}
      },
      "cell_type": "code",
      "source": [
        "import torch\n",
        "\n",
        "use_cuda = torch.cuda.is_available()\n",
        "device = torch.device(\"cuda\" if use_cuda else \"cpu\")"
      ],
      "execution_count": 0,
      "outputs": []
    },
    {
      "metadata": {
        "id": "cIYRBT5Arkd9",
        "colab_type": "code",
        "colab": {}
      },
      "cell_type": "code",
      "source": [
        "import model # from pytorch-vqa\n",
        "\n",
        "#saved_state = torch.load('logs/2017-08-04_00:55:19.pth')\n",
        "saved_state = torch.load('./2017-08-04_00.55.19.pth', map_location=device)\n",
        "tokens = len(saved_state['vocab']['question']) + 1\n",
        "\n",
        "saved_state.keys()  # See what's in the saved state"
      ],
      "execution_count": 0,
      "outputs": []
    },
    {
      "metadata": {
        "id": "vQY1ToCOrkd_",
        "colab_type": "code",
        "colab": {}
      },
      "cell_type": "code",
      "source": [
        "# Load the predefined model\n",
        "vqa_net = torch.nn.DataParallel(model.Net(tokens))\n",
        "vqa_net.load_state_dict(saved_state['weights'])\n",
        "vqa_net.to(device)\n",
        "vqa_net.eval()"
      ],
      "execution_count": 0,
      "outputs": []
    },
    {
      "metadata": {
        "id": "iuPYostErkeC",
        "colab_type": "text"
      },
      "cell_type": "markdown",
      "source": [
        "### Now get the Correct Image feature network"
      ]
    },
    {
      "metadata": {
        "id": "U6jaY50JrkeC",
        "colab_type": "code",
        "colab": {}
      },
      "cell_type": "code",
      "source": [
        "if not os.path.isfile('./pytorch-resnet/README.md'):\n",
        "    !git clone https://github.com/Cyanogenoid/pytorch-resnet.git\n",
        "sys.path.append(os.path.realpath('./pytorch-resnet'))"
      ],
      "execution_count": 0,
      "outputs": []
    },
    {
      "metadata": {
        "id": "GHzBAKZqrkeG",
        "colab_type": "code",
        "colab": {}
      },
      "cell_type": "code",
      "source": [
        "import resnet  # from pytorch-resnet\n",
        "\n",
        "import torchvision.transforms as transforms\n",
        "from PIL import Image\n",
        "\n",
        "def get_transform(target_size, central_fraction=1.0):\n",
        "    return transforms.Compose([\n",
        "        transforms.Scale(int(target_size / central_fraction)),\n",
        "        transforms.CenterCrop(target_size),\n",
        "        transforms.ToTensor(),\n",
        "        transforms.Normalize(mean=[0.485, 0.456, 0.406],\n",
        "                             std=[0.229, 0.224, 0.225]),\n",
        "    ])\n",
        "\n",
        "class ResNetLayer4(torch.nn.Module):\n",
        "    def __init__(self):\n",
        "        super(ResNetLayer4, self).__init__()\n",
        "        self.model = resnet.resnet152(pretrained=True)\n",
        "        \n",
        "        # from  visual_qa_analysis/config.py\n",
        "        image_size = 448  # scale shorter end of image to this size and centre crop\n",
        "        #output_size = image_size // 32  # size of the feature maps after processing through a network\n",
        "        output_features = 2048  # number of feature maps thereof\n",
        "        central_fraction = 0.875 # only take this much of the centre when scaling and centre cropping\n",
        "\n",
        "        self.transform = get_transform(image_size, central_fraction)\n",
        "\n",
        "        def save_output(module, input, output):\n",
        "            self.buffer = output\n",
        "        self.model.layer4.register_forward_hook(save_output)\n",
        "\n",
        "    def forward(self, x):\n",
        "        self.model(x)\n",
        "        return self.buffer\n",
        "    \n",
        "    def image_to_features(self, img_file):\n",
        "        img = Image.open(img_file).convert('RGB')\n",
        "        img_transformed = self.transform(img)\n",
        "        #print(img_transformed.size())\n",
        "        img_batch = img_transformed.unsqueeze(0).to(device)\n",
        "        return self.forward(img_batch) \n",
        "    \n",
        "resnet_layer4 = ResNetLayer4().to(device)  # Downloads 241Mb model when first run"
      ],
      "execution_count": 0,
      "outputs": []
    },
    {
      "metadata": {
        "id": "vh03jBpErkeI",
        "colab_type": "code",
        "colab": {}
      },
      "cell_type": "code",
      "source": [
        "# Sample images : \n",
        "image_urls, image_path, image_files = [\n",
        "    'https://www.pets4homes.co.uk/images/articles/2709/large/tabby-cat-colour-and-pattern-genetics-5516c44dbd383.jpg',\n",
        "    'https://imgc.allpostersimages.com/img/print/posters/cat-black-jumping-off-wall_a-G-12469828-14258383.jpg',\n",
        "    'https://i.ytimg.com/vi/AIwlyly7Eso/hqdefault.jpg',\n",
        "    'https://upload.wikimedia.org/wikipedia/commons/9/9b/Black_pussy_-_panoramio.jpg',\n",
        "    'https://www.thehappycatsite.com/wp-content/uploads/2017/06/siamese5.jpg',\n",
        "    'https://c.pxhere.com/photos/15/e5/cat_roof_home_architecture_building_roofs_animal_sit-536976.jpg!d',\n",
        "    'http://kitticats.com/wp-content/uploads/2015/05/cat4.jpg',\n",
        "], './img/', []\n",
        "os.makedirs('./img', exist_ok=True)\n",
        "for url in image_urls:\n",
        "    image_file=os.path.join(image_path, os.path.basename(url))\n",
        "    image_files.append(image_file)\n",
        "    if not os.path.isfile(image_file):\n",
        "        !wget {url} --directory-prefix ./img/\n",
        "image_files"
      ],
      "execution_count": 0,
      "outputs": []
    },
    {
      "metadata": {
        "id": "5rB9n6XDrkeL",
        "colab_type": "code",
        "colab": {}
      },
      "cell_type": "code",
      "source": [
        "v = resnet_layer4.image_to_features(image_files[0])\n",
        "v.size()"
      ],
      "execution_count": 0,
      "outputs": []
    },
    {
      "metadata": {
        "id": "9abLEHs4rkeN",
        "colab_type": "text"
      },
      "cell_type": "markdown",
      "source": [
        "### Have a look at how the vocab is built"
      ]
    },
    {
      "metadata": {
        "id": "WJZQ7BXyrkeN",
        "colab_type": "code",
        "colab": {}
      },
      "cell_type": "code",
      "source": [
        "vocab = saved_state['vocab']\n",
        "vocab.keys()  # dict_keys(['question', 'answer'])\n",
        "list(vocab['question'].items())[:5]  # [('the', 1), ('is', 2), ('what', 3), ('are', 4), ('this', 5)]"
      ],
      "execution_count": 0,
      "outputs": []
    },
    {
      "metadata": {
        "id": "sU3io3bnrkeQ",
        "colab_type": "code",
        "colab": {}
      },
      "cell_type": "code",
      "source": [
        "qtoken_to_index = vocab['question']\n",
        "QUESTION_LENGTH_MAX = 30 # say...\n",
        "    \n",
        "def encode_question(question_str):\n",
        "    \"\"\" Turn a question into a vector of indices and a question length \"\"\"\n",
        "    question_arr = question_str.lower().split(' ')\n",
        "    #vec = torch.zeros(QUESTION_LENGTH_MAX).long()\n",
        "    vec = torch.zeros(len(question_arr)).long()  \n",
        "    for i, token in enumerate(question_arr):\n",
        "        vec[i] = qtoken_to_index.get(token, 0)\n",
        "    return vec.to(device), torch.tensor( len(question_arr) ).to(device)"
      ],
      "execution_count": 0,
      "outputs": []
    },
    {
      "metadata": {
        "id": "RIkrd2a3rkeR",
        "colab_type": "code",
        "colab": {}
      },
      "cell_type": "code",
      "source": [
        "list(vocab['answer'].items())[:5]    # [('yes', 0), ('no', 1), ('2', 2), ('1', 3), ('white', 4)]"
      ],
      "execution_count": 0,
      "outputs": []
    },
    {
      "metadata": {
        "id": "ZvR-c_5ArkeT",
        "colab_type": "code",
        "colab": {}
      },
      "cell_type": "code",
      "source": [
        "answer_words = ['UNDEF'] * len(vocab['answer'])\n",
        "for w,idx in vocab['answer'].items():\n",
        "    answer_words[idx]=w\n",
        "len(answer_words), answer_words[:10]  # 3000, ['yes', 'no', '2', '1', 'white', '3', 'red', 'blue', '4', 'green']"
      ],
      "execution_count": 0,
      "outputs": []
    },
    {
      "metadata": {
        "id": "Ztyk_8nOrkeU",
        "colab_type": "code",
        "colab": {}
      },
      "cell_type": "code",
      "source": [
        "# Important things to know...\n",
        "'colour' in qtoken_to_index, 'color' in qtoken_to_index, 'tabby' in answer_words"
      ],
      "execution_count": 0,
      "outputs": []
    },
    {
      "metadata": {
        "id": "VoNVrpDMrkeX",
        "colab_type": "text"
      },
      "cell_type": "markdown",
      "source": [
        "### Let's test a single Image"
      ]
    },
    {
      "metadata": {
        "id": "Z4-LgLqxrkeX",
        "colab_type": "code",
        "colab": {}
      },
      "cell_type": "code",
      "source": [
        "image_idx = 1\n",
        "image_filename = image_files[image_idx]\n",
        "\n",
        "img = Image.open(image_filename).convert('RGB')\n",
        "plt.imshow(img)"
      ],
      "execution_count": 0,
      "outputs": []
    },
    {
      "metadata": {
        "id": "mYQM2akDrkeb",
        "colab_type": "code",
        "colab": {}
      },
      "cell_type": "code",
      "source": [
        "v0 = resnet_layer4.image_to_features(image_filename)"
      ],
      "execution_count": 0,
      "outputs": []
    },
    {
      "metadata": {
        "id": "NqeDHAMBrkee",
        "colab_type": "code",
        "colab": {}
      },
      "cell_type": "code",
      "source": [
        "q, q_len = encode_question(\"is there a cat in the picture\")\n",
        "#q, q_len = encode_question(\"what color is the cat's fur\")\n",
        "#q, q_len = encode_question(\"is the cat jumping up or down\")\n",
        "q, q_len"
      ],
      "execution_count": 0,
      "outputs": []
    },
    {
      "metadata": {
        "id": "NLjzTs_Erkeg",
        "colab_type": "code",
        "colab": {}
      },
      "cell_type": "code",
      "source": [
        "ans = vqa_net(v0, q.unsqueeze(0), q_len.unsqueeze(0))\n",
        "ans.data.cpu()[0:10]"
      ],
      "execution_count": 0,
      "outputs": []
    },
    {
      "metadata": {
        "id": "3yD41_Tirkei",
        "colab_type": "code",
        "colab": {}
      },
      "cell_type": "code",
      "source": [
        "_, answer_idx = ans.data.cpu().max(dim=1)\n",
        "answer_words[ answer_idx ]"
      ],
      "execution_count": 0,
      "outputs": []
    },
    {
      "metadata": {
        "id": "WG22JijCrkej",
        "colab_type": "text"
      },
      "cell_type": "markdown",
      "source": [
        "### Let's systematise a little"
      ]
    },
    {
      "metadata": {
        "id": "2HF1vOzwrkej",
        "colab_type": "code",
        "colab": {}
      },
      "cell_type": "code",
      "source": [
        "def vqa_single_softmax(im_features, q_str):\n",
        "    q, q_len = encode_question(q_str)\n",
        "    ans = vqa_net(im_features, q.unsqueeze(0), q_len.unsqueeze(0))\n",
        "    return ans.data.cpu()\n",
        "\n",
        "def vqa(image_filename, question_arr):\n",
        "    plt.imshow(Image.open(image_filename).convert('RGB')); plt.show()    \n",
        "    image_features = resnet_layer4.image_to_features(image_filename)\n",
        "    for question_str in question_arr:\n",
        "        _, answer_idx = vqa_single_softmax(image_features, question_str).max(dim=1)\n",
        "        #print(question_str+\" -> \"+answer_words[ answer_idx ])\n",
        "        print((answer_words[ answer_idx ]+' '*8)[:8]+\" <- \"+question_str)  "
      ],
      "execution_count": 0,
      "outputs": []
    },
    {
      "metadata": {
        "id": "JEoT_oFErkem",
        "colab_type": "code",
        "colab": {}
      },
      "cell_type": "code",
      "source": [
        "image_idx = 0  # 6 \n",
        "\n",
        "vqa(image_files[image_idx], [\n",
        "    \"is there a cat in the picture\",\n",
        "    \"is this a picture of a cat\",\n",
        "    \"is the animal in the picture a cat or a dog\",\n",
        "    \"what color is the cat\",\n",
        "    \"what color are the cat's eyes\",\n",
        "])"
      ],
      "execution_count": 0,
      "outputs": []
    },
    {
      "metadata": {
        "id": "rRk7W2v8rkeo",
        "colab_type": "text"
      },
      "cell_type": "markdown",
      "source": [
        "### Now let's stress the model"
      ]
    },
    {
      "metadata": {
        "id": "2wk1zUdErkep",
        "colab_type": "text"
      },
      "cell_type": "markdown",
      "source": [
        "#### Leave one word out "
      ]
    },
    {
      "metadata": {
        "id": "v-fehxUwrkeq",
        "colab_type": "code",
        "colab": {}
      },
      "cell_type": "code",
      "source": [
        "def leave_one_out(image_filename, question_base):\n",
        "    plt.imshow(Image.open(image_filename).convert('RGB')); plt.show()    \n",
        "    image_features = resnet_layer4.image_to_features(image_filename)\n",
        "    question_arr = question_base.lower().split(' ')\n",
        "    for i, word_omit in enumerate(question_arr):\n",
        "        question_str = ' '.join( question_arr[:i]+question_arr[i+1:] )\n",
        "        score, answer_idx = vqa_single_softmax(image_features, question_str).max(dim=1)\n",
        "        #print(question_str+\" -> \"+answer_words[ answer_idx ])\n",
        "        print((answer_words[ answer_idx ]+' '*8)[:8]+\" <- \"+question_str)  #, score"
      ],
      "execution_count": 0,
      "outputs": []
    },
    {
      "metadata": {
        "id": "Wldywrllrker",
        "colab_type": "code",
        "colab": {}
      },
      "cell_type": "code",
      "source": [
        "image_idx = 0\n",
        "\n",
        "leave_one_out(image_files[image_idx], \"is there a cat in the picture\")  # mouse? dog?"
      ],
      "execution_count": 0,
      "outputs": []
    },
    {
      "metadata": {
        "id": "XOdA-7VQrket",
        "colab_type": "text"
      },
      "cell_type": "markdown",
      "source": [
        "#### Leave all combos of words out ( think : Binary )"
      ]
    },
    {
      "metadata": {
        "id": "jfDjsHvvrket",
        "colab_type": "code",
        "colab": {}
      },
      "cell_type": "code",
      "source": [
        "def leave_out_combos(image_filename, question_base):\n",
        "    plt.imshow(Image.open(image_filename).convert('RGB')); plt.show()    \n",
        "    image_features = resnet_layer4.image_to_features(image_filename)\n",
        "    question_arr = question_base.lower().split(' ')\n",
        "    for i in range(2 ** len(question_arr)):\n",
        "        q_arr = [question_arr[j] for j in range(len(question_arr)) if (i & (2**j))==0 ]\n",
        "        question_str = ' '.join( q_arr )\n",
        "        _, answer_idx = vqa_single_softmax(image_features, question_str).max(dim=1)\n",
        "        print((answer_words[ answer_idx ]+' '*8)[:8]+\" <- \"+question_str)"
      ],
      "execution_count": 0,
      "outputs": []
    },
    {
      "metadata": {
        "id": "_6f0P4y-rkew",
        "colab_type": "code",
        "colab": {}
      },
      "cell_type": "code",
      "source": [
        "image_idx = 4\n",
        "\n",
        "leave_out_combos(image_files[image_idx], \"is there a cat in the picture\")\n",
        "#leave_out_combos(image_files[image_idx], \"what color are cat's eyes\")"
      ],
      "execution_count": 0,
      "outputs": []
    },
    {
      "metadata": {
        "id": "YcNi2oD_rkey",
        "colab_type": "text"
      },
      "cell_type": "markdown",
      "source": [
        "#### Iteratively, leave out the word that is 'weakest'"
      ]
    },
    {
      "metadata": {
        "id": "tdZWMP1vrkez",
        "colab_type": "code",
        "colab": {}
      },
      "cell_type": "code",
      "source": [
        "def leave_out_best(image_filename, question_base):\n",
        "    plt.imshow(Image.open(image_filename).convert('RGB')); plt.show()    \n",
        "    image_features = resnet_layer4.image_to_features(image_filename)\n",
        "    _, answer_true = vqa_single_softmax(image_features, question_base).max(dim=1)\n",
        "    print((answer_words[ answer_true ]+' '*8)[:8]+\" <- \"+question_base)\n",
        "    print()\n",
        "    while True:\n",
        "        question_arr = question_base.lower().split(' ')\n",
        "        score_best, q_best = None, ''\n",
        "        for i, word_omit in enumerate(question_arr):\n",
        "            question_str = ' '.join( question_arr[:i]+question_arr[i+1:] )\n",
        "            score, answer_idx = vqa_single_softmax(image_features, question_str).max(dim=1)\n",
        "            if answer_idx==answer_true:\n",
        "                print((answer_words[ answer_idx ]+' '*8)[:8]+\" <- \"+question_str)  #, score        \n",
        "                if (score_best is None or score>score_best):\n",
        "                    score_best, question_base = score, question_str\n",
        "        print()\n",
        "        if score_best is None or len(question_base)==0: break"
      ],
      "execution_count": 0,
      "outputs": []
    },
    {
      "metadata": {
        "id": "rZybp-4trke1",
        "colab_type": "code",
        "colab": {}
      },
      "cell_type": "code",
      "source": [
        "image_idx = 3\n",
        "\n",
        "leave_out_best(image_files[image_idx], \"is there a cat in the picture\")"
      ],
      "execution_count": 0,
      "outputs": []
    },
    {
      "metadata": {
        "id": "38TE3nMrrke3",
        "colab_type": "code",
        "colab": {}
      },
      "cell_type": "code",
      "source": [
        ""
      ],
      "execution_count": 0,
      "outputs": []
    }
  ]
}